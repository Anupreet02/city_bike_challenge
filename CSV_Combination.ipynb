{
 "cells": [
  {
   "cell_type": "markdown",
   "metadata": {},
   "source": [
    "### Analysis\n",
    "\n",
    "my analysis of the New York Citi Bike program reveals critical insights into user patterns, including peak travel times, popular stations, and differences in behavior between casual riders and annual members. By visualizing these trends, I’ve highlighted areas for improvement and opportunities to increase ridership and operational efficiency. These findings will guide city officials in optimizing the bike-sharing program and enhancing its accessibility and appeal for New Yorkers and visitors alike."
   ]
  },
  {
   "cell_type": "code",
   "execution_count": 1,
   "metadata": {},
   "outputs": [],
   "source": [
    "import pandas as pd\n",
    "\n",
    "# Load data\n",
    "july_df = pd.read_csv('JC-202407-citibike-tripdata.csv')\n",
    "august_df = pd.read_csv('JC-202408-citibike-tripdata.csv')\n",
    "september_df = pd.read_csv('JC-202409-citibike-tripdata.csv')\n",
    "\n",
    "# Add a month column\n",
    "july_df['month'] = 'July'\n",
    "august_df['month'] = 'August'\n",
    "september_df['month'] = 'September'\n",
    "\n",
    "# Combine DataFrames\n",
    "combined_df = pd.concat([ july_df, august_df,september_df], ignore_index=True)\n"
   ]
  },
  {
   "cell_type": "code",
   "execution_count": 3,
   "metadata": {},
   "outputs": [
    {
     "data": {
      "text/plain": [
       "ride_id               334452\n",
       "rideable_type         334452\n",
       "started_at            334452\n",
       "ended_at              334452\n",
       "start_station_name    334452\n",
       "start_station_id      334452\n",
       "end_station_name      333416\n",
       "end_station_id        333306\n",
       "start_lat             334452\n",
       "start_lng             334452\n",
       "end_lat               334335\n",
       "end_lng               334335\n",
       "member_casual         334452\n",
       "month                 334452\n",
       "dtype: int64"
      ]
     },
     "execution_count": 3,
     "metadata": {},
     "output_type": "execute_result"
    }
   ],
   "source": [
    "combined_df.count()"
   ]
  },
  {
   "cell_type": "code",
   "execution_count": 8,
   "metadata": {},
   "outputs": [],
   "source": [
    "# Save the combined DataFrame to a new CSV file\n",
    "combined_df.to_csv('combined_3months_of_2024_citibike.csv', index=False)\n"
   ]
  }
 ],
 "metadata": {
  "kernelspec": {
   "display_name": "Python 3",
   "language": "python",
   "name": "python3"
  },
  "language_info": {
   "codemirror_mode": {
    "name": "ipython",
    "version": 3
   },
   "file_extension": ".py",
   "mimetype": "text/x-python",
   "name": "python",
   "nbconvert_exporter": "python",
   "pygments_lexer": "ipython3",
   "version": "3.12.4"
  }
 },
 "nbformat": 4,
 "nbformat_minor": 2
}
